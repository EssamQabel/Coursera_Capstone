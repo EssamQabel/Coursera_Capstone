{
  "nbformat": 4,
  "nbformat_minor": 0,
  "metadata": {
    "colab": {
      "name": "Untitled1.ipynb",
      "provenance": []
    },
    "kernelspec": {
      "name": "python3",
      "display_name": "Python 3"
    }
  },
  "cells": [
    {
      "cell_type": "markdown",
      "metadata": {
        "id": "vpCw49mhZHEg",
        "colab_type": "text"
      },
      "source": [
        "Introduction-Business Problem\n",
        "=================================\n",
        "- **Business Problem:**\n",
        "Starting an business has been always risky, because after investing money, time and effort into opening the business, due to many factors, it may not succeed, that is why it is essential to study the market first, and the first thing to decide on is the type of industry you will enter.\n",
        "And the success of a certain industry is usually related to the existence of another, so we will use current opening businesses in Alexandria, Egypt\n",
        "to investigate what business work with what and in which neighborhood, and this process can be implemented with any city.\n",
        "- **Target Audience:** This project can be implemented in a business consultant firm, that give clients - based on their prefrences, budgets, or desires - an idea on what might work and what might not."
      ]
    },
    {
      "cell_type": "markdown",
      "metadata": {
        "id": "NRvAPVk_ZIty",
        "colab_type": "text"
      },
      "source": [
        "Data\n",
        "=================================\n",
        "We will need to gather the locations of the neighborhoods in Alexandria form wikipedia and user those locations with foursquare API to gather venue inforomation in each neighborhood.</br>\n",
        "- **Foursquare API:** via the search endpoint in the venues group, this source allows to retrieve information such as:\n",
        "\n",
        "    - getting a list of venues/business in a certain location</br><code>https://api.foursquare.com/v2/venues/explore?client_id={}&client_secret={}&ll={}&v={}</code>\n",
        "- **Nominatim:** Nominatim is a search engine for <a href=\"openstreetmap.org\">openstreetmap.org</a> data available for use in Python within the geopy.geocoders library; in the context of this solution, Nominatim is used to perform geocoding of popular places' address\n",
        "\n"
      ]
    },
    {
      "cell_type": "code",
      "metadata": {
        "id": "Gn3HQ-BoZDVk",
        "colab_type": "code",
        "colab": {}
      },
      "source": [
        ""
      ],
      "execution_count": 0,
      "outputs": []
    }
  ]
}