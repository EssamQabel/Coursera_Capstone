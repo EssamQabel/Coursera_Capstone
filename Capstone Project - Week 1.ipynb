{
  "nbformat": 4,
  "nbformat_minor": 0,
  "metadata": {
    "colab": {
      "name": "Untitled1.ipynb",
      "provenance": []
    },
    "kernelspec": {
      "name": "python3",
      "display_name": "Python 3"
    }
  },
  "cells": [
    {
      "cell_type": "markdown",
      "metadata": {
        "id": "vpCw49mhZHEg",
        "colab_type": "text"
      },
      "source": [
        "Introduction-Business Problem\n",
        "=================================\n",
        "Starting an business has been always risky, because after investing money, time and effort into opening the business, due to many factors, it may not succeed, that is why it is essential to study the market first, and the first thing to decide on is the type of industry you will enter.\n",
        "And the success of a certain industry is usually related to the existence of another, so we will use current opening businesses in Alexandria, Egypt\n",
        "to investigate what business work with what and in which neighborhood, and this process can be implemented with any city."
      ]
    },
    {
      "cell_type": "markdown",
      "metadata": {
        "id": "NRvAPVk_ZIty",
        "colab_type": "text"
      },
      "source": [
        "Data\n",
        "=================================\n",
        "We will need to gather the locations of the neighborhoods in Alexandria form wikipedia and user those locations with foursquare API to gather venue inforomation in each neighborhood."
      ]
    },
    {
      "cell_type": "code",
      "metadata": {
        "id": "Gn3HQ-BoZDVk",
        "colab_type": "code",
        "colab": {}
      },
      "source": [
        ""
      ],
      "execution_count": 0,
      "outputs": []
    }
  ]
}